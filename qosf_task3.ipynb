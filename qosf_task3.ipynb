{
 "cells": [
  {
   "cell_type": "code",
   "execution_count": 8,
   "metadata": {},
   "outputs": [],
   "source": [
    "from qiskit import QuantumCircuit\n",
    "from qiskit import ClassicalRegister\n",
    "from qiskit.quantum_info import OneQubitEulerDecomposer\n",
    "from qiskit.quantum_info import TwoQubitBasisDecomposer\n",
    "from qiskit.circuit.library.standard_gates import CZGate\n",
    "from qiskit.quantum_info.operators import Operator"
   ]
  },
  {
   "cell_type": "code",
   "execution_count": 47,
   "metadata": {},
   "outputs": [
    {
     "data": {
      "image/png": "[encoded data removed]",
      "text/plain": [
       "<Figure size 308.106x84.28 with 1 Axes>"
      ]
     },
     "execution_count": 47,
     "metadata": {},
     "output_type": "execute_result"
    }
   ],
   "source": [
    "def oneQubitDecomppser(Gate):\n",
    "    \"\"\"\n",
    "    Decomposes a single qubit gate to the Rx,Rz basis\n",
    "    \n",
    "    Parameters:\n",
    "    Gate (qiskit Gate object): qiskit quantum gate object \"https://qiskit.org/documentation/stubs/qiskit.circuit.Gate.html\".\n",
    "    \n",
    "    Returns:\n",
    "    QuantumCircuit: Qiskit quantum circuit which contains the decomposition.\n",
    "    \"\"\"\n",
    "    oneQubitDecomposer = OneQubitEulerDecomposer(basis=\"ZXZ\")\n",
    "    op=Operator(Gate)\n",
    "    decomposition = oneQubitDecomposer.__call__(op)\n",
    "    return decomposition\n",
    "\n",
    "#testing\n",
    "\n",
    "qc=QuantumCircuit(1)\n",
    "qc.h(0)\n",
    "hgate=qc.data[0][0]\n",
    "oneQubitDecomppser(hgate).draw(output=\"mpl\")\n"
   ]
  },
  {
   "cell_type": "code",
   "execution_count": 48,
   "metadata": {},
   "outputs": [
    {
     "data": {
      "image/png": "[encoded data removed]",
      "text/plain": [
       "<Figure size 588.575x144.48 with 1 Axes>"
      ]
     },
     "execution_count": 48,
     "metadata": {},
     "output_type": "execute_result"
    }
   ],
   "source": [
    "def twoQubitDecomppser(Gate):\n",
    "    \"\"\"\n",
    "    Decomposes a two qubit gate to the Rx,Rz,cz basis\n",
    "    \n",
    "    Parameters:\n",
    "    Gate (qiskit Gate object): qiskit quantum gate object \"https://qiskit.org/documentation/stubs/qiskit.circuit.Gate.html\".\n",
    "    \n",
    "    Returns:\n",
    "    QuantumCircuit: Qiskit quantum circuit which contains the decomposition.\n",
    "    \"\"\"\n",
    "    twoQubitDecomposer=TwoQubitBasisDecomposer(gate=CZGate(), basis_fidelity=1.0, euler_basis=\"ZXZ\")\n",
    "    op=Operator(Gate)\n",
    "    decomposition = twoQubitDecomposer.__call__(op)\n",
    "    return decomposition\n",
    "\n",
    "#testing\n",
    "\n",
    "qc=QuantumCircuit(2)\n",
    "qc.cx(0,1)\n",
    "cxgate=qc.data[0][0]\n",
    "twoQubitDecomppser(cxgate).draw(output=\"mpl\")\n"
   ]
  },
  {
   "cell_type": "code",
   "execution_count": 49,
   "metadata": {},
   "outputs": [
    {
     "name": "stdout",
     "output_type": "stream",
     "text": [
      "                   \n",
      "q_0: ──■───────────\n",
      "     ┌─┴─┐         \n",
      "q_1: ┤ X ├─────────\n",
      "     ├───┤         \n",
      "q_2: ┤ H ├─────────\n",
      "     └───┘         \n",
      "q_3: ──■───■──■──■─\n",
      "       │   │  │  │ \n",
      "q_4: ──■───■──■──■─\n",
      "                   \n"
     ]
    },
    {
     "data": {
      "image/png": "[encoded data removed]",
      "text/plain": [
       "<Figure size 863.177x325.08 with 1 Axes>"
      ]
     },
     "execution_count": 49,
     "metadata": {},
     "output_type": "execute_result"
    }
   ],
   "source": [
    "def compiler(circuit):\n",
    "    \"\"\"\n",
    "    Translates one quantum circuit into another, using a restricted set of gates {Rx,Rz,cz}.\n",
    "    \n",
    "    Parameters:\n",
    "    circuit (QuantumCircuit): qiskit QuantumCircuit object which contains the gates.\n",
    "    \n",
    "    Returns:\n",
    "    QuantumCircuit: An equivalent quantum circuit which contains {Rx,Rz,cz} decomposition.\n",
    "    \"\"\"\n",
    "    #initialize an empty circuit with the same size of qubits and clbits \n",
    "    decomposedCircuit = QuantumCircuit(circuit.num_qubits)\n",
    "    if circuit.num_clbits >0:\n",
    "        decomposedCircuit.add_register(ClassicalRegister(circuit.num_clbits))\n",
    "    \n",
    "    #extract the gates to compile them from the data list\n",
    "    for item in circuit.data:\n",
    "        \n",
    "        #the gate object\n",
    "        gate=item[0] \n",
    "        \n",
    "        #number of qubits of the gate\n",
    "        numOfQubits=len(item[1]) \n",
    "        \n",
    "        #the indices that the gate applied on\n",
    "        positions=[qubit.index for qubit in item[1]] \n",
    "        \n",
    "        #check if the gate is a single qubit gate\n",
    "        if numOfQubits==1:\n",
    "            #decompose the single qubit gate\n",
    "            decomposition=oneQubitDecomppser(gate)\n",
    "            #extract the decomposition gates from the received circuit\n",
    "            gates=[item[0] for item in decomposition.data]\n",
    "            #append each gate to the new circuit at the same position    note: len(positions)=1 \"single qubit gate\"\n",
    "            [decomposedCircuit.append(gate,positions) for gate in gates]\n",
    "        \n",
    "        #check if the gate is a two qubit gate\n",
    "        elif numOfQubits==2:\n",
    "            #decompose the gate\n",
    "            decomposition=twoQubitDecomppser(gate)\n",
    "            #extract the decomposition gates from the received circuit\n",
    "            for item in decomposition.data:\n",
    "                gate=item[0]\n",
    "                if len(item[1])==2:\n",
    "                    #append each gate to the new circuit at the same positions   note: len(positions)=2\n",
    "                    decomposedCircuit.append(gate,positions)\n",
    "                else:\n",
    "                    #append a single qubit gate to the new circuit\n",
    "                    #get the index (0 or 1) means the gate is applied to the 1st qubit or the 2nd qubit from the positions list \n",
    "                    decomposedCircuit.append(gate,[positions[item[1][0].index]])                 \n",
    "    \n",
    "    return decomposedCircuit\n",
    "\n",
    "#testing\n",
    "qc=QuantumCircuit(5)\n",
    "qc.cx(0,1)\n",
    "qc.h(2)\n",
    "qc.cz(3,4)\n",
    "qc.cz(3,4)\n",
    "qc.cz(3,4)\n",
    "qc.cz(3,4)\n",
    "print(qc)\n",
    "newCircuit=compiler(qc)\n",
    "newCircuit.draw(output=\"mpl\")"
   ]
  },
  {
   "cell_type": "code",
   "execution_count": 50,
   "metadata": {},
   "outputs": [],
   "source": [
    "#overhead\n",
    "#1.rotations with zero angles\n",
    "#2.double rotation about the same axis (we can combine them)\n",
    "#3.doublicate cz gates (remove each other)"
   ]
  },
  {
   "cell_type": "code",
   "execution_count": 51,
   "metadata": {},
   "outputs": [
    {
     "data": {
      "image/png": "[encoded data removed]",
      "text/plain": [
       "<Figure size 562.177x325.08 with 1 Axes>"
      ]
     },
     "execution_count": 51,
     "metadata": {},
     "output_type": "execute_result"
    }
   ],
   "source": [
    "def removeZeroRotations(circuit):\n",
    "    \"\"\"\n",
    "    Removes rotations with zero angles.\n",
    "    \n",
    "    Parameters:\n",
    "    circuit (QuantumCircuit): circuit before simplification.\n",
    "    \n",
    "    Returns:\n",
    "    QuantumCircuit: A quantum circuit without gates with zero rotation.\n",
    "    \"\"\"\n",
    "    n=len(circuit.data)\n",
    "    i=0\n",
    "    while i<n:\n",
    "        if circuit.data[i][0].params==[0.0]:\n",
    "            circuit.data.pop(i)\n",
    "            i=i-1\n",
    "            n=n-1\n",
    "        i=i+1\n",
    "    return circuit\n",
    "\n",
    "\n",
    "#testing\n",
    "newCircuit=removeZeroRotations(newCircuit)\n",
    "newCircuit.draw(output=\"mpl\")"
   ]
  },
  {
   "cell_type": "code",
   "execution_count": 52,
   "metadata": {},
   "outputs": [
    {
     "data": {
      "image/png": "[encoded data removed]",
      "text/plain": [
       "<Figure size 562.177x325.08 with 1 Axes>"
      ]
     },
     "execution_count": 52,
     "metadata": {},
     "output_type": "execute_result"
    }
   ],
   "source": [
    "def removeDoubleCZ(circuit):\n",
    "    \"\"\"\n",
    "    Removes pairs of cz at the same positions to optimize the circuit.\n",
    "    \n",
    "    Parameters:\n",
    "    circuit (QuantumCircuit): circuit before simplification.\n",
    "    \n",
    "    Returns:\n",
    "    QuantumCircuit: A quantum circuit after simplification.\n",
    "    \"\"\"\n",
    "    wires=[[\"\"] for i in range(circuit.num_qubits)]\n",
    "    n=len(circuit.data)\n",
    "    i=0\n",
    "    while i<n:\n",
    "        if circuit.data[i][0].name==\"cz\":\n",
    "            qubit1=circuit.data[i][1][0].index\n",
    "            qubit2=circuit.data[i][1][1].index\n",
    "            if wires[qubit1][-1][:2]==\"cz\" and wires[qubit2][-1][:2]==\"cz\":\n",
    "                circuit.data.pop(i)\n",
    "                circuit.data.pop(int(wires[qubit1][-1][2:]))\n",
    "                wires[qubit1].pop()\n",
    "                wires[qubit2].pop()\n",
    "                i=i-2\n",
    "                n=n-2\n",
    "            else:\n",
    "                wires[qubit1].append(\"cz\"+str(i))\n",
    "                wires[qubit2].append(\"cz\"+str(i))\n",
    "        else:\n",
    "            qubit=circuit.data[i][1][0].index\n",
    "            wires[qubit].append(circuit.data[i][0].name)\n",
    "        i=i+1\n",
    "    return circuit\n",
    "\n",
    "#testing\n",
    "newCircuit=removeDoubleCZ(newCircuit)\n",
    "newCircuit.draw(output=\"mpl\")"
   ]
  },
  {
   "cell_type": "code",
   "execution_count": null,
   "metadata": {},
   "outputs": [],
   "source": []
  }
 ],
 "metadata": {
  "kernelspec": {
   "display_name": "Python 3",
   "language": "python",
   "name": "python3"
  },
  "language_info": {
   "codemirror_mode": {
    "name": "ipython",
    "version": 3
   },
   "file_extension": ".py",
   "mimetype": "text/x-python",
   "name": "python",
   "nbconvert_exporter": "python",
   "pygments_lexer": "ipython3",
   "version": "3.7.4"
  }
 },
 "nbformat": 4,
 "nbformat_minor": 2
}
