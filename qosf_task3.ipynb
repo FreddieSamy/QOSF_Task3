{
 "cells": [
  {
   "cell_type": "code",
   "execution_count": 1,
   "metadata": {},
   "outputs": [],
   "source": [
    "from qiskit import QuantumCircuit\n",
    "from qiskit import ClassicalRegister\n",
    "from qiskit.quantum_info import OneQubitEulerDecomposer\n",
    "from qiskit.quantum_info import TwoQubitBasisDecomposer\n",
    "from qiskit.circuit.library.standard_gates import CZGate\n",
    "from qiskit.quantum_info.operators import Operator\n",
    "from math import pi as PI"
   ]
  },
  {
   "cell_type": "code",
   "execution_count": 2,
   "metadata": {},
   "outputs": [],
   "source": [
    "def oneQubitDecomppser(Gate):\n",
    "    \"\"\"\n",
    "    Decomposes a single qubit gate to the Rx,Rz basis\n",
    "    \n",
    "    Parameters:\n",
    "    Gate (qiskit Gate object): qiskit quantum gate object \"https://qiskit.org/documentation/stubs/qiskit.circuit.Gate.html\".\n",
    "    \n",
    "    Returns:\n",
    "    QuantumCircuit: Qiskit quantum circuit which contains the decomposition.\n",
    "    \"\"\"\n",
    "    oneQubitDecomposer = OneQubitEulerDecomposer(basis=\"ZXZ\")\n",
    "    op=Operator(Gate)\n",
    "    decomposition = oneQubitDecomposer.__call__(op)\n",
    "    return decomposition\n",
    "\n",
    "#testing\n",
    "\n",
    "#qc=QuantumCircuit(1)\n",
    "#qc.h(0)\n",
    "#hgate=qc.data[0][0]\n",
    "#oneQubitDecomppser(hgate).draw(output=\"mpl\")\n"
   ]
  },
  {
   "cell_type": "code",
   "execution_count": 3,
   "metadata": {},
   "outputs": [],
   "source": [
    "def twoQubitDecomppser(Gate):\n",
    "    \"\"\"\n",
    "    Decomposes a two qubit gate to the Rx,Rz,cz basis\n",
    "    \n",
    "    Parameters:\n",
    "    Gate (qiskit Gate object): qiskit quantum gate object \"https://qiskit.org/documentation/stubs/qiskit.circuit.Gate.html\".\n",
    "    \n",
    "    Returns:\n",
    "    QuantumCircuit: Qiskit quantum circuit which contains the decomposition.\n",
    "    \"\"\"\n",
    "    twoQubitDecomposer=TwoQubitBasisDecomposer(gate=CZGate(), basis_fidelity=1.0, euler_basis=\"ZXZ\")\n",
    "    op=Operator(Gate)\n",
    "    decomposition = twoQubitDecomposer.__call__(op)\n",
    "    return decomposition\n",
    "\n",
    "#testing\n",
    "\n",
    "#qc=QuantumCircuit(2)\n",
    "#qc.cx(0,1)\n",
    "#cxgate=qc.data[0][0]\n",
    "#twoQubitDecomppser(cxgate).draw(output=\"mpl\")\n"
   ]
  },
  {
   "cell_type": "code",
   "execution_count": 4,
   "metadata": {},
   "outputs": [],
   "source": [
    "def compiler(circuit):\n",
    "    \"\"\"\n",
    "    Translates one quantum circuit into another, using a restricted set of gates {Rx,Rz,cz}.\n",
    "    \n",
    "    Parameters:\n",
    "    circuit (QuantumCircuit): qiskit QuantumCirc\n",
    "    uit object which contains the gates.\n",
    "    \n",
    "    Returns:\n",
    "    QuantumCircuit: An equivalent quantum circuit which contains {Rx,Rz,cz} decomposition.\n",
    "    \"\"\"\n",
    "    #initialize an empty circuit with the same size of qubits and clbits \n",
    "    decomposedCircuit = QuantumCircuit(circuit.num_qubits)\n",
    "    if circuit.num_clbits >0:\n",
    "        decomposedCircuit.add_register(ClassicalRegister(circuit.num_clbits))\n",
    "    \n",
    "    #extract the gates to compile them from the data list\n",
    "    for item in circuit.data:\n",
    "        \n",
    "        #the gate object\n",
    "        gate=item[0] \n",
    "        \n",
    "        #number of qubits of the gate\n",
    "        numOfQubits=len(item[1]) \n",
    "        \n",
    "        #the indices that the gate applied on\n",
    "        positions=[qubit.index for qubit in item[1]] \n",
    "        \n",
    "        #check if the gate is a single qubit gate\n",
    "        if numOfQubits==1:\n",
    "            #decompose the single qubit gate\n",
    "            decomposition=oneQubitDecomppser(gate)\n",
    "            #extract the decomposition gates from the received circuit\n",
    "            gates=[item[0] for item in decomposition.data]\n",
    "            #append each gate to the new circuit at the same position    note: len(positions)=1 \"single qubit gate\"\n",
    "            [decomposedCircuit.append(gate,positions) for gate in gates]\n",
    "        \n",
    "        #check if the gate is a two qubit gate\n",
    "        elif numOfQubits==2:\n",
    "            #decompose the gate\n",
    "            decomposition=twoQubitDecomppser(gate)\n",
    "            #extract the decomposition gates from the received circuit\n",
    "            for item in decomposition.data:\n",
    "                gate=item[0]\n",
    "                if len(item[1])==2:\n",
    "                    #append each gate to the new circuit at the same positions   note: len(positions)=2\n",
    "                    decomposedCircuit.append(gate,positions)\n",
    "                else:\n",
    "                    #append a single qubit gate to the new circuit\n",
    "                    #get the index (0 or 1) means the gate is applied to the 1st qubit or the 2nd qubit from the positions list \n",
    "                    decomposedCircuit.append(gate,[positions[item[1][0].index]])                 \n",
    "    \n",
    "    return decomposedCircuit\n",
    "\n",
    "#testing\n",
    "#qc=QuantumCircuit(5)\n",
    "#qc.cx(0,1)\n",
    "#qc.h(2)\n",
    "#qc.rz(3.14,2)\n",
    "#qc.h(2)\n",
    "#qc.cz(3,4)\n",
    "#qc.cz(3,4)\n",
    "#qc.cz(3,4)\n",
    "#qc.cz(3,4)\n",
    "#print(qc)\n",
    "#newCircuit=compiler(qc)\n",
    "#newCircuit.draw(output=\"mpl\")"
   ]
  },
  {
   "cell_type": "code",
   "execution_count": 5,
   "metadata": {},
   "outputs": [],
   "source": [
    "#overhead\n",
    "#1.rotations with zero angles\n",
    "#2.double rotation about the same axis (we can combine them)\n",
    "#3.doublicate cz gates (remove each other)"
   ]
  },
  {
   "cell_type": "code",
   "execution_count": 6,
   "metadata": {},
   "outputs": [],
   "source": [
    "def removeZeroRotations(circuit):\n",
    "    \"\"\"\n",
    "    Removes rotations with zero or 2PI angles.\n",
    "    \n",
    "    Parameters:\n",
    "    circuit (QuantumCircuit): circuit before simplification.\n",
    "    \n",
    "    Returns:\n",
    "    QuantumCircuit: A quantum circuit without gates with zero rotation.\n",
    "    \"\"\"\n",
    "    n=len(circuit.data)\n",
    "    i=0\n",
    "    while i<n:\n",
    "        angle=circuit.data[i][0].params\n",
    "        if angle==[0.0] or angle==[2*PI]:\n",
    "            circuit.data.pop(i)\n",
    "            i=i-1\n",
    "            n=n-1\n",
    "        i=i+1\n",
    "    return circuit\n",
    "\n",
    "\n",
    "#testing\n",
    "#newCircuit=removeZeroRotations(newCircuit)\n",
    "#newCircuit.draw(output=\"mpl\")"
   ]
  },
  {
   "cell_type": "code",
   "execution_count": 7,
   "metadata": {},
   "outputs": [],
   "source": [
    "def removeDoubleCZ(circuit):\n",
    "    \"\"\"\n",
    "    Removes pairs of cz at the same positions to optimize the circuit.\n",
    "    \n",
    "    Parameters:\n",
    "    circuit (QuantumCircuit): circuit before simplification.\n",
    "    \n",
    "    Returns:\n",
    "    QuantumCircuit: A quantum circuit after simplification.\n",
    "    list: A list of stacks for wires, every stack contains the names of the gates that applied to that wire.\n",
    "          To help for simplification later.\n",
    "    \"\"\"\n",
    "    #initialize a stack for every wire to store the gates\n",
    "    wires=[[\"\"] for i in range(circuit.num_qubits)]\n",
    "    n=len(circuit.data)\n",
    "    i=0\n",
    "    while i<n:\n",
    "        #finds the cz gates in the data list\n",
    "        if circuit.data[i][0].name==\"cz\":\n",
    "            qubit1=circuit.data[i][1][0].index\n",
    "            qubit2=circuit.data[i][1][1].index\n",
    "            #check if there exist another cz gate before this at the same positions\n",
    "            if wires[qubit1][-1][:2]==\"cz\" and wires[qubit2][-1][:2]==\"cz\":\n",
    "                #delete the two adjacent cz gates\n",
    "                circuit.data.pop(i)\n",
    "                circuit.data.pop(int(wires[qubit1][-1][2:]))\n",
    "                wires[qubit1].pop()\n",
    "                wires[qubit2].pop()\n",
    "                #redirect the index after deleting 2 nodes\n",
    "                i=i-2\n",
    "                n=n-2\n",
    "            else:\n",
    "                #adding cz gate to the stacks concatenated with the index of the instruction \n",
    "                #to use it for deleting if we found another cz gate at the same positions later\n",
    "                wires[qubit1].append(\"cz\"+str(i))\n",
    "                wires[qubit2].append(\"cz\"+str(i))\n",
    "        else:\n",
    "            #adding any other gate to the stacks\n",
    "            qubit=circuit.data[i][1][0].index\n",
    "            wires[qubit].append(circuit.data[i][0].name+str(i))\n",
    "        i=i+1\n",
    "        #print(wires)\n",
    "    return circuit,wires\n",
    "\n",
    "#testing\n",
    "#newCircuit,wires=removeDoubleCZ(newCircuit) \n",
    "#newCircuit.draw(output=\"mpl\")"
   ]
  },
  {
   "cell_type": "code",
   "execution_count": 8,
   "metadata": {},
   "outputs": [],
   "source": [
    "def combineRotations(circuit,wires):\n",
    "    \"\"\"\n",
    "    Combines the consecutive rotations about the same axis to optimize the circuit.\n",
    "    \n",
    "    Parameters:\n",
    "    circuit (QuantumCircuit): circuit before simplification.\n",
    "    wires (list): A list of stacks for wires, every stack contains the names of the gates that applied to that wire.\n",
    "    \n",
    "    Returns:\n",
    "    QuantumCircuit: A quantum circuit after simplification.\n",
    "    \"\"\"\n",
    "    #initialize a list to store the indices that will be deleted after the loop to not affect the stored sequence of indices\n",
    "    indicesToPop=[]\n",
    "    for j in range(len(wires)):\n",
    "        i=0\n",
    "        n=len(wires[j])\n",
    "        while i<n-1:\n",
    "            #checking if there exists a consecutive rotation gate about the same axis\n",
    "            if wires[j][i][:2]==wires[j][i+1][:2]:\n",
    "                \n",
    "                #getting the instruction index that stored in the wires list \n",
    "                index1=int(wires[j][i][2:])\n",
    "                index2=int(wires[j][i+1][2:])\n",
    "                \n",
    "                #getting the two angles of rotations to combine them\n",
    "                angle1=circuit.data[index1][0].params[0]\n",
    "                angle2=circuit.data[index2][0].params[0]\n",
    "                Sum=angle1+angle2\n",
    "                \n",
    "                #combining the two angles in one gate and delete the other gate\n",
    "                circuit.data[index2][0].params[0]=Sum\n",
    "                indicesToPop.append(index1)\n",
    "                \n",
    "                #update the wires list data and redirect the i index \n",
    "                del wires[j][i]\n",
    "                n=n-1\n",
    "                i=i-1\n",
    "                \n",
    "                #checking if the combination of the angles equals 2PI (rotate and back to the same position)\n",
    "                if round(Sum,2)==round(2*PI,2):\n",
    "                    indicesToPop.append(index2)\n",
    "                    \n",
    "                    #delete the 2PI rotation and redirect the i index\n",
    "                    del wires[j][i+1]\n",
    "                    n=n-1\n",
    "                    i=i-2\n",
    "                \n",
    "            i=i+1\n",
    "            \n",
    "    #sorting the indices in descending order to pop the biggest index first\n",
    "    indicesToPop=sorted(indicesToPop, reverse=True)\n",
    "    #removing the elements\n",
    "    [circuit.data.pop(i) for i in indicesToPop]\n",
    "    \n",
    "    return circuit\n",
    "    \n",
    "#testing\n",
    "#newCircuit=combineRotations(newCircuit,wires)\n",
    "#newCircuit.draw(output=\"mpl\")"
   ]
  },
  {
   "cell_type": "code",
   "execution_count": 9,
   "metadata": {},
   "outputs": [],
   "source": [
    "def simplify(circuit):\n",
    "    \"\"\"\n",
    "    Simplifies the circuit by removing the overhead that appears after decomposition.\n",
    "    Overhead\n",
    "    1.rotations with zero angles\n",
    "    2.double rotation about the same axis (we can combine them)\n",
    "    3.doublicate cz gates (remove each other)\n",
    "    \n",
    "    Parameters:\n",
    "    circuit (QuantumCircuit): circuit before simplification.\n",
    "    \n",
    "    Returns:\n",
    "    QuantumCircuit: A quantum circuit after simplification.\n",
    "    \"\"\"\n",
    "    circuit=removeZeroRotations(circuit)\n",
    "    circuit,wires=removeDoubleCZ(circuit)\n",
    "    circuit=combineRotations(circuit,wires)\n",
    "    return circuit\n",
    "\n",
    "#testing\n",
    "#newCircuit=simplify(newCircuit)\n",
    "#newCircuit.draw(output=\"mpl\")"
   ]
  },
  {
   "cell_type": "markdown",
   "metadata": {},
   "source": [
    "# Using the Functions"
   ]
  },
  {
   "cell_type": "markdown",
   "metadata": {},
   "source": [
    "## Circuit Creation"
   ]
  },
  {
   "cell_type": "code",
   "execution_count": 10,
   "metadata": {},
   "outputs": [
    {
     "data": {
      "image/png": "[encoded data removed]",
      "text/plain": [
       "<Figure size 381.577x385.28 with 1 Axes>"
      ]
     },
     "execution_count": 10,
     "metadata": {},
     "output_type": "execute_result"
    }
   ],
   "source": [
    "#create a quantum circuit\n",
    "c1=QuantumCircuit(5,5)\n",
    "\n",
    "#adding any gates\n",
    "c1.cx(0,1)\n",
    "c1.h(2)\n",
    "c1.rz(3.14,2)\n",
    "c1.h(2)\n",
    "c1.cz(3,4)\n",
    "c1.cz(3,4)\n",
    "c1.cz(3,4)\n",
    "c1.cz(3,4)\n",
    "\n",
    "c1.draw(output=\"mpl\")"
   ]
  },
  {
   "cell_type": "markdown",
   "metadata": {},
   "source": [
    "## Circuit Decomposition"
   ]
  },
  {
   "cell_type": "code",
   "execution_count": 11,
   "metadata": {
    "scrolled": true
   },
   "outputs": [
    {
     "data": {
      "image/png": "[encoded data removed]",
      "text/plain": [
       "<Figure size 863.177x385.28 with 1 Axes>"
      ]
     },
     "execution_count": 11,
     "metadata": {},
     "output_type": "execute_result"
    }
   ],
   "source": [
    "#Decompose the circuit into Rz,Rx,cz basis\n",
    "c2=compiler(c1)\n",
    "c2.draw(output=\"mpl\")"
   ]
  },
  {
   "cell_type": "markdown",
   "metadata": {},
   "source": [
    "## Circuit Simplification"
   ]
  },
  {
   "cell_type": "code",
   "execution_count": 12,
   "metadata": {},
   "outputs": [
    {
     "data": {
      "image/png": "[encoded data removed]",
      "text/plain": [
       "<Figure size 562.177x385.28 with 1 Axes>"
      ]
     },
     "execution_count": 12,
     "metadata": {},
     "output_type": "execute_result"
    }
   ],
   "source": [
    "#Simplify the circuit by removing the overhead\n",
    "\n",
    "#The overhead\n",
    "#1.rotations with zero angles\n",
    "#2.double rotation about the same axis (we can combine them)\n",
    "#3.doublicate cz gates (remove each other)\n",
    "\n",
    "c3=simplify(c2)\n",
    "c3.draw(output=\"mpl\")"
   ]
  }
 ],
 "metadata": {
  "kernelspec": {
   "display_name": "Python 3",
   "language": "python",
   "name": "python3"
  },
  "language_info": {
   "codemirror_mode": {
    "name": "ipython",
    "version": 3
   },
   "file_extension": ".py",
   "mimetype": "text/x-python",
   "name": "python",
   "nbconvert_exporter": "python",
   "pygments_lexer": "ipython3",
   "version": "3.7.4"
  }
 },
 "nbformat": 4,
 "nbformat_minor": 2
}
